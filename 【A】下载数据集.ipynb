{
 "cells": [
  {
   "cell_type": "markdown",
   "id": "c99d266f-77c4-431d-bf1e-7bbebe4e2776",
   "metadata": {},
   "source": [
    "# 下载数据集\n",
    "\n",
    "同济子豪兄\n",
    "\n",
    "2023-1-31"
   ]
  },
  {
   "cell_type": "code",
   "execution_count": 1,
   "id": "c6458cfb-ca22-4b9d-b851-84bd3e6dd008",
   "metadata": {},
   "outputs": [
    {
     "name": "stdout",
     "output_type": "stream",
     "text": [
      "--2023-02-11 10:35:02--  https://zihao-openmmlab.obs.cn-east-3.myhuaweicloud.com/20230130-mmseg/dataset/Glomeruli-dataset.zip\n",
      "Resolving zihao-openmmlab.obs.cn-east-3.myhuaweicloud.com (zihao-openmmlab.obs.cn-east-3.myhuaweicloud.com)... 121.36.235.132\n",
      "Connecting to zihao-openmmlab.obs.cn-east-3.myhuaweicloud.com (zihao-openmmlab.obs.cn-east-3.myhuaweicloud.com)|121.36.235.132|:443... connected.\n",
      "HTTP request sent, awaiting response... 200 OK\n",
      "Length: 2628579054 (2.4G) [application/zip]\n",
      "Saving to: ‘Glomeruli-dataset.zip’\n",
      "\n",
      "Glomeruli-dataset.z 100%[===================>]   2.45G  15.6MB/s    in 3m 1s   \n",
      "\n",
      "2023-02-11 10:38:04 (13.8 MB/s) - ‘Glomeruli-dataset.zip’ saved [2628579054/2628579054]\n",
      "\n"
     ]
    }
   ],
   "source": [
    "!wget https://zihao-openmmlab.obs.cn-east-3.myhuaweicloud.com/20230130-mmseg/dataset/Glomeruli-dataset.zip"
   ]
  },
  {
   "cell_type": "code",
   "execution_count": null,
   "id": "81285a83-d35a-4263-a57a-1ed55f6e493c",
   "metadata": {},
   "outputs": [],
   "source": [
    "# 解压\n",
    "!unzip Glomeruli-dataset.zip >> /dev/null"
   ]
  },
  {
   "cell_type": "code",
   "execution_count": null,
   "id": "a6f69357-cce0-40c6-98e5-47929ebf54c0",
   "metadata": {},
   "outputs": [],
   "source": []
  }
 ],
 "metadata": {
  "kernelspec": {
   "display_name": "Python 3 (ipykernel)",
   "language": "python",
   "name": "python3"
  },
  "language_info": {
   "codemirror_mode": {
    "name": "ipython",
    "version": 3
   },
   "file_extension": ".py",
   "mimetype": "text/x-python",
   "name": "python",
   "nbconvert_exporter": "python",
   "pygments_lexer": "ipython3",
   "version": "3.8.10"
  }
 },
 "nbformat": 4,
 "nbformat_minor": 5
}
